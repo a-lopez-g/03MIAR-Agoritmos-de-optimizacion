{
  "nbformat": 4,
  "nbformat_minor": 0,
  "metadata": {
    "colab": {
      "provenance": [],
      "include_colab_link": true
    },
    "kernelspec": {
      "name": "python3",
      "display_name": "Python 3"
    },
    "language_info": {
      "name": "python"
    }
  },
  "cells": [
    {
      "cell_type": "markdown",
      "metadata": {
        "id": "view-in-github",
        "colab_type": "text"
      },
      "source": [
        "<a href=\"https://colab.research.google.com/github/a-lopez-g/03MIAR-Agoritmos-de-optimizacion/blob/main/AG1/Andrea_L%C3%B3pez_Garc%C3%ADa_AG1.ipynb\" target=\"_parent\"><img src=\"https://colab.research.google.com/assets/colab-badge.svg\" alt=\"Open In Colab\"/></a>"
      ]
    },
    {
      "cell_type": "markdown",
      "metadata": {
        "id": "GG2D6vLdYwwy"
      },
      "source": [
        "***Actividad Guiada 1 de Algoritmos de Optimizacion***\n",
        "\n",
        "Andrea López García\n",
        "\n",
        "https://colab.research.google.com/drive/1IHDudYKTjdG_bXDPSnMmQ-Ipg6k9rb1p?usp=sharing\n",
        "\n",
        "https://github.com/mi_usuario/03MAIR---Algoritmos-de-Optimizacion #poner mi url de github"
      ]
    },
    {
      "cell_type": "markdown",
      "source": [
        "## Torres de Hanoi -> Divide y vencerás"
      ],
      "metadata": {
        "id": "_Z4vjARJVco_"
      }
    },
    {
      "cell_type": "markdown",
      "source": [
        "Tenemos tres columnas y unas fichas ordenadas por tamaño colocadas en la primera torre. Como sabemos, el objetivo es colocar esas fichas en la esa torre a la número tres ( en el mismo orden que se encuentran ahora mismo para cumplir las restricciones).\n",
        "\n",
        "Sólo se puede mover la ficha de una en una y no se puede colocar una de mayor tamaño encima de uno de menor. \n",
        "\n",
        "ESTRATEGIA: tenemos que construir una torre de n-1 fichas en la 2 (moviéndolas desde la 1), mover la última ficha de la 1 (más grande) a la 3, y mover la torre del poste 2 al 3. \n",
        "\n",
        "Usamos una función recursiva (se llama a si misma)."
      ],
      "metadata": {
        "id": "n9G8NwYFVb7o"
      }
    },
    {
      "cell_type": "code",
      "metadata": {
        "id": "rTiqLuX2ZKuL",
        "outputId": "60677b04-086c-4535-b1a6-ed316a236549",
        "colab": {
          "base_uri": "https://localhost:8080/"
        }
      },
      "source": [
        "#Torres de Hanoi - Divide y venceras\n",
        "\n",
        "# N: número de fichas\n",
        "# desde: poste de inicio\n",
        "# hasta: poste final (al que lo queremos mover)\n",
        "\n",
        "# Siempre tiene tres postes\n",
        "def Torres_Hanoi(N, desde, hasta):\n",
        "  #N - Nº de fichas\n",
        "  #desde - torre inicial\n",
        "  #hasta - torre fina\n",
        "\n",
        "  # Si sólo hay una ficha, pues se mueve directamente\n",
        "  if N==1 :\n",
        "    print(\"Lleva la ficha desde \" + str(desde) + \" hasta \" + str(hasta))\n",
        "\n",
        "  else:\n",
        "    # movemos todas las fichas menos 1 desde el primer poste hasta el pivote\n",
        "    Torres_Hanoi(N-1, desde, 6-desde-hasta) \n",
        "    print(\"Lleva la ficha desde \" + str(desde) + \" hasta \" + str(hasta))\n",
        "    # ahora desde el pivote hasta la que queremos (hasta)\n",
        "    Torres_Hanoi(N-1, 6-desde-hasta,  hasta)\n",
        "\n",
        "Torres_Hanoi(3, 1, 3)\n",
        "################################################################"
      ],
      "execution_count": 1,
      "outputs": [
        {
          "output_type": "stream",
          "name": "stdout",
          "text": [
            "Lleva la ficha desde 1 hasta 3\n",
            "Lleva la ficha desde 1 hasta 2\n",
            "Lleva la ficha desde 3 hasta 2\n",
            "Lleva la ficha desde 1 hasta 3\n",
            "Lleva la ficha desde 2 hasta 1\n",
            "Lleva la ficha desde 2 hasta 3\n",
            "Lleva la ficha desde 1 hasta 3\n"
          ]
        }
      ]
    },
    {
      "cell_type": "markdown",
      "source": [
        "En cuanto a las operaciones:\n",
        "\n",
        "T(n) = 1 + 2T(N-1) = 2^n - 1.\n",
        "\n",
        "Entonces la complejidad es del orden O(2^n)."
      ],
      "metadata": {
        "id": "JkKtcrHeUafC"
      }
    },
    {
      "cell_type": "markdown",
      "source": [
        "## Sistema monetario -> Técnica voraz"
      ],
      "metadata": {
        "id": "7m0CzNxxenz3"
      }
    },
    {
      "cell_type": "markdown",
      "source": [
        "Tenemos un conjunto de candidatos (etapas que se pueden seleccionar), que nos permiten construir una solución parcial mediante una función de selección optimizando una función objetivo, junto a una función de factibilidad ( asegura que la selección parcial es válida, mejora las siguientes etapas) y un criterio final para comprobar que la solución parcial es la solución final.\n",
        "\n",
        "Estamos ante un problema combinado, lo que lleva a que voraz sea óptima. Para fuerza bruta habría que generar todas las posibles combinaciones de monedas e ir probando el valor de la suma de todas ellas hasta que lleguemos a la cantidad. \n",
        "\n",
        "NO va a devolver el valor óptimo con otros sistemas monetarios, dado que tiene que cumplir determinados criterios"
      ],
      "metadata": {
        "id": "Biijyb1cer_k"
      }
    },
    {
      "cell_type": "code",
      "metadata": {
        "id": "YwBudj2hYoMR",
        "colab": {
          "base_uri": "https://localhost:8080/"
        },
        "outputId": "dcd186d2-d32b-43ce-eaac-456fcfad5dd8"
      },
      "source": [
        "#Cambio de monedas - Técnica voraz\n",
        "################################################################################\n",
        "SISTEMA1 = [12, 5 ,2, 1  ]\n",
        "SISTEMA2 = [25, 10, 5, 1]\n",
        "################################################################\n",
        "def cambio_monedas(CANTIDAD,SISTEMA):\n",
        "  print(f\"Sistema : {SISTEMA}\")\n",
        "\n",
        "  SOLUCION = [0]*len(SISTEMA) \n",
        "  ValorAcumulado = 0\n",
        "\n",
        "  for i,valor in enumerate(SISTEMA):\n",
        "    monedas = (CANTIDAD-ValorAcumulado)//valor\n",
        "    SOLUCION[i] = monedas\n",
        "    ValorAcumulado = ValorAcumulado + monedas*valor\n",
        "\n",
        "    if CANTIDAD == ValorAcumulado:\n",
        "      return SOLUCION\n",
        "\n",
        "  print(\"No es posible encontrar solucion\") \n",
        "\n",
        "sol1 = cambio_monedas(15,SISTEMA1)\n",
        "print(sol1)\n",
        "sol2 = cambio_monedas(27,SISTEMA2)\n",
        "print(sol2)\n",
        "    \n",
        "################################################################"
      ],
      "execution_count": 6,
      "outputs": [
        {
          "output_type": "stream",
          "name": "stdout",
          "text": [
            "Sistema : [12, 5, 2, 1]\n",
            "[1, 0, 1, 1]\n",
            "Sistema : [25, 10, 5, 1]\n",
            "[1, 0, 0, 2]\n"
          ]
        }
      ]
    },
    {
      "cell_type": "markdown",
      "source": [
        "Otro planteamiento sería:"
      ],
      "metadata": {
        "id": "BcJuKhNAqhLJ"
      }
    },
    {
      "cell_type": "code",
      "source": [
        "def cambio_monedas(cantidad, sistema):\n",
        "\n",
        "  # cantidad a cambiar\n",
        "\n",
        "  # sistema: valor de las monedas diferente, ordenado de mayor valor a menor\n",
        "\n",
        "  solucion = {}\n",
        "\n",
        "  for i, v in enumerate(sistema):\n",
        "\n",
        "    monedas = cantidad // v\n",
        "    solucion[v] = monedas\n",
        "\n",
        "    cantidad -= monedas * v\n",
        "    if cantidad == 0:\n",
        "\n",
        "      return solucion\n",
        "  \n",
        "\n",
        "SISTEMA = [12, 5 ,2, 1  ]\n",
        "cambio_monedas(15,SISTEMA)"
      ],
      "metadata": {
        "id": "-31D0IWVhiit",
        "colab": {
          "base_uri": "https://localhost:8080/"
        },
        "outputId": "4e7da67d-6aea-457a-ae94-0caf3fd0b1b9"
      },
      "execution_count": 3,
      "outputs": [
        {
          "output_type": "execute_result",
          "data": {
            "text/plain": [
              "{12: 1, 5: 0, 2: 1, 1: 1}"
            ]
          },
          "metadata": {},
          "execution_count": 3
        }
      ]
    },
    {
      "cell_type": "markdown",
      "source": [
        "Hay que tener en cuenta que esta técnica puede no funcionar con otros sistemas monetarios. "
      ],
      "metadata": {
        "id": "A3takcsgrKZy"
      }
    },
    {
      "cell_type": "markdown",
      "source": [
        "## N reinas -> Backtracking"
      ],
      "metadata": {
        "id": "24d_Xo6vl4rX"
      }
    },
    {
      "cell_type": "markdown",
      "source": [
        "En este caso nuestro algoritmo va a construir todas las soluciones posibles (explora todas). Es decir, nos encontramos ante una manera organizada de componer las soluciones de forma sistemática (organizada) y por etapas. \n",
        "\n",
        "Es un problema discretos y se va construyendo un árbol para favorecer la exploración, usando un criterio para descartar ramas (sino haríamos un análisis exhaustivo mediante fuerza bruta).\n",
        "\n",
        "Desde el punto de vista computacional no da buenos resultados pero ayuda a encontrar las soluciones."
      ],
      "metadata": {
        "id": "lNnciWn-lMlR"
      }
    },
    {
      "cell_type": "markdown",
      "source": [
        "El valor de cada elemento de la tupla nos indica dónde se ha colocado la reina. \n",
        "Usamos también la recursividad para construir la solución por pasos.\n",
        "\n",
        "Hay que comporbar que no hay dos valores iguales en la solución, y que si la pareja cumple la condición entonces dice que no es prometedora, y toma una decisión."
      ],
      "metadata": {
        "id": "ct5dNfK5l7gR"
      }
    },
    {
      "cell_type": "code",
      "metadata": {
        "id": "H4Iwt2XRZTFr",
        "colab": {
          "base_uri": "https://localhost:8080/"
        },
        "outputId": "98e72ce5-d3e5-4889-fb9d-807f6ddb786e"
      },
      "source": [
        "#N Reinas - Vuelta Atrás()\n",
        "################################################################################\n",
        "\n",
        "#Verifica que en la solución parcial no hay amenzas entre reinas\n",
        "################################################################\n",
        "def es_prometedora(SOLUCION,etapa):\n",
        "################################################################\n",
        "  #print(SOLUCION)\n",
        "  #Si la solución tiene dos valores iguales no es valida => Dos reinas en la misma fila\n",
        "  for i in range(etapa+1):\n",
        "    #print(\"El valor \" + str(SOLUCION[i]) + \" está \" +  str(SOLUCION.count(SOLUCION[i])) + \" veces\")\n",
        "    if SOLUCION.count(SOLUCION[i]) > 1:       \n",
        "      return False\n",
        "  \n",
        "    #Verifica las diagonales\n",
        "    for j in range(i+1, etapa +1 ):\n",
        "      #print(\"Comprobando diagonal de \" + str(i) + \" y \" + str(j))\n",
        "      if abs(i-j) == abs(SOLUCION[i]-SOLUCION[j]) : return False\n",
        "  return True\n",
        "\n",
        "#Traduce la solución al tablero\n",
        "################################################################\n",
        "def escribe_solucion(S):\n",
        "################################################################\n",
        "  n = len(S)\n",
        "  for x in range(n):\n",
        "    print(\"\")\n",
        "    for i in range(n):\n",
        "      if S[i] == x+1:\n",
        "        print(\" X \" , end=\"\")\n",
        "      else:\n",
        "        print(\" - \", end=\"\")\n",
        "\n",
        "\n",
        "#Proceso principal de N-Reinas\n",
        "################################################################\n",
        "def reinas(N, solucion=[],etapa=0): \n",
        "################################################################\n",
        "### ....\n",
        "  if len(solucion) == 0:         # [0,0,0...]\n",
        "    solucion = [0 for i in range(N) ]\n",
        "  \n",
        "  for i in range(1, N+1):\n",
        "    solucion[etapa] = i\n",
        "    if es_prometedora(solucion, etapa):\n",
        "      if etapa == N-1:\n",
        "        print(solucion)\n",
        "      else:  \n",
        "        reinas(N, solucion, etapa+1)\n",
        "    else:\n",
        "      None\n",
        "  \n",
        "  solucion[etapa] = 0\n",
        "\n",
        "reinas(4,solucion=[],etapa=0)"
      ],
      "execution_count": 7,
      "outputs": [
        {
          "output_type": "stream",
          "name": "stdout",
          "text": [
            "[2, 4, 1, 3]\n",
            "[3, 1, 4, 2]\n"
          ]
        }
      ]
    },
    {
      "cell_type": "code",
      "metadata": {
        "id": "eTZclKH9QV0R",
        "colab": {
          "base_uri": "https://localhost:8080/"
        },
        "outputId": "f2b3d246-602c-4e5b-d16b-aadf3df67ff9"
      },
      "source": [
        "escribe_solucion([2, 4, 1, 3])"
      ],
      "execution_count": 8,
      "outputs": [
        {
          "output_type": "stream",
          "name": "stdout",
          "text": [
            "\n",
            " -  -  X  - \n",
            " X  -  -  - \n",
            " -  -  -  X \n",
            " -  X  -  - "
          ]
        }
      ]
    },
    {
      "cell_type": "markdown",
      "source": [
        "Hay que tener en cuenta que las funciones de recursividad llevan a cálculos complejos. En general, podemos afirmar que el Backtracking tiene un orden de complejidad exponencial O(n^2)."
      ],
      "metadata": {
        "id": "BMNI66jDsY4j"
      }
    },
    {
      "cell_type": "markdown",
      "source": [
        "## Viaje por el río -> Programación dinámica"
      ],
      "metadata": {
        "id": "5rq95XK2swYh"
      }
    },
    {
      "cell_type": "markdown",
      "source": [
        "En este caso nos encontramos ante un problema de programación dinámica. Es decir, dividimos el problema en subproblemas guardando las soluciones para usarlas más adelante. \n",
        "\n",
        "Podemos usar esta técnica dado que este problema nos permite guardar las soluciones y se cumple el principio de optimalidad. Sin embargo, habrá que tener cuidado con la complejidad espacial."
      ],
      "metadata": {
        "id": "yTU3BUKIs56g"
      }
    },
    {
      "cell_type": "code",
      "metadata": {
        "id": "TocxR55dQWq5",
        "outputId": "cbe88b00-d51c-4c16-a17f-439f3a1cd9a6",
        "colab": {
          "base_uri": "https://localhost:8080/",
          "height": 365
        }
      },
      "source": [
        "#Viaje por el rio - Programación dinámica\n",
        "################################################################################\n",
        "\n",
        "TARIFAS = [\n",
        "[0,5,4,3,999,999,999], #usar sino float(inf) en vez de 999\n",
        "[999,0,999,2,3,999,11],\n",
        "[999,999, 0,1,999,4,10],\n",
        "[999,999,999, 0,5,6,9],\n",
        "[999,999, 999,999,0,999,4],\n",
        "[999,999, 999,999,999,0,3],\n",
        "[999,999,999,999,999,999,0]\n",
        "]\n",
        "\n",
        "#999 se puede sustituir por float(\"inf\")\n",
        "\n",
        "\n",
        "#Calculo de la matriz de PRECIOS y RUTAS\n",
        "################################################################  \n",
        "def Precios(TARIFAS):\n",
        "################################################################  \n",
        "  #Total de Nodos\n",
        "  N = len(TARIFAS[0])\n",
        "  \n",
        "  #Inicialización de la tabla de precios\n",
        "  PRECIOS = [ [9999]*N for i in [9999]*N]\n",
        "  RUTA = [ [\"\"]*N for i in [\"\"]*N] # mejor opción intermedia para ir de un nodo a otro\n",
        "  \n",
        "  for i in range(0,N-1):\n",
        "    RUTA[i][i] = i             #Para ir de i a i se \"pasa por i\"\n",
        "    PRECIOS[i][i] = 0          #Para ir de i a i se se paga 0\n",
        "    for j in range(i+1, N):\n",
        "      MIN = TARIFAS[i][j]\n",
        "      RUTA[i][j] = i         \n",
        "      \n",
        "      for k in range(i, j):\n",
        "        if PRECIOS[i][k] + TARIFAS[k][j] < MIN:\n",
        "            MIN = min(MIN, PRECIOS[i][k] + TARIFAS[k][j] )\n",
        "            RUTA[i][j] = k          #Anota que para ir de i a j hay que pasar por k\n",
        "        PRECIOS[i][j] = MIN\n",
        "        \n",
        "  return PRECIOS,RUTA\n",
        "################################################################  \n",
        "\n",
        "PRECIOS,RUTA = Precios(TARIFAS)  \n",
        "#print(PRECIOS[0][6])\n",
        "\n",
        "print(\"PRECIOS\")\n",
        "for i in range(len(TARIFAS)):\n",
        "  print(PRECIOS[i])\n",
        "\n",
        "print(\"\\nRUTA\")  \n",
        "for i in range(len(TARIFAS)):\n",
        "  print(RUTA[i])  \n",
        "  \n",
        "#Determinar la ruta con Recursividad\n",
        "def calcular_ruta(RUTA, desde, hasta):\n",
        "  if desde == hasta:\n",
        "    #print(\"Ir a :\" + str(desde))\n",
        "    return \"\" \n",
        "  else:\n",
        "    return str(calcular_ruta( RUTA, desde, RUTA[desde][hasta])) +  \\\n",
        "                ',' + \\\n",
        "                str(RUTA[desde][hasta] \\\n",
        "              ) \n",
        "\n",
        "print(\"\\nLa ruta es:\")  \n",
        "calcular_ruta(RUTA, 0,6)  "
      ],
      "execution_count": 9,
      "outputs": [
        {
          "output_type": "stream",
          "name": "stdout",
          "text": [
            "PRECIOS\n",
            "[0, 5, 4, 3, 8, 8, 11]\n",
            "[9999, 0, 999, 2, 3, 8, 7]\n",
            "[9999, 9999, 0, 1, 6, 4, 7]\n",
            "[9999, 9999, 9999, 0, 5, 6, 9]\n",
            "[9999, 9999, 9999, 9999, 0, 999, 4]\n",
            "[9999, 9999, 9999, 9999, 9999, 0, 3]\n",
            "[9999, 9999, 9999, 9999, 9999, 9999, 9999]\n",
            "\n",
            "RUTA\n",
            "[0, 0, 0, 0, 1, 2, 5]\n",
            "['', 1, 1, 1, 1, 3, 4]\n",
            "['', '', 2, 2, 3, 2, 5]\n",
            "['', '', '', 3, 3, 3, 3]\n",
            "['', '', '', '', 4, 4, 4]\n",
            "['', '', '', '', '', 5, 5]\n",
            "['', '', '', '', '', '', '']\n",
            "\n",
            "La ruta es:\n"
          ]
        },
        {
          "output_type": "execute_result",
          "data": {
            "text/plain": [
              "',0,2,5'"
            ],
            "application/vnd.google.colaboratory.intrinsic+json": {
              "type": "string"
            }
          },
          "metadata": {},
          "execution_count": 9
        }
      ]
    },
    {
      "cell_type": "markdown",
      "source": [
        "## Práctica individual -> Encontrar dos puntos más cercanos"
      ],
      "metadata": {
        "id": "D6-78xcft6pZ"
      }
    },
    {
      "cell_type": "markdown",
      "source": [
        "Vamos a buscar los dos puntos mas cercanos en una lista (1D) usando un algoritmo de fuerza bruta, es decir, que exploramos todas las posibles soluciones.\n"
      ],
      "metadata": {
        "id": "Dq6FEJwht-m5"
      }
    },
    {
      "cell_type": "code",
      "source": [
        "import random\n",
        "import copy\n",
        "\n",
        "lista_1d = [random.randrange(1,1000) for x in range(5)]\n",
        "print(lista_1d)"
      ],
      "metadata": {
        "colab": {
          "base_uri": "https://localhost:8080/"
        },
        "id": "YC--TZmPt-FV",
        "outputId": "3584885c-1971-462c-8110-a62c82df20b0"
      },
      "execution_count": 23,
      "outputs": [
        {
          "output_type": "stream",
          "name": "stdout",
          "text": [
            "[802, 913, 392, 585, 539]\n"
          ]
        }
      ]
    },
    {
      "cell_type": "code",
      "source": [
        "# Dos elementos serán los más cercanos cuando el valor de la resta sea el menor\n",
        "\n",
        "def dos_puntos_mas_cercanos(lista_1d):\n",
        "  lista_1d_copia = lista_1d.copy()\n",
        "  min_resultado_resta = 100000\n",
        "    \n",
        "  for i in range(len(lista_1d)):\n",
        "\n",
        "    elemento1 = lista_1d[i]\n",
        "\n",
        "    lista_1d_copia.remove(elemento1)\n",
        "\n",
        "    for k in lista_1d_copia:\n",
        "      resta = abs(elemento1 - k)\n",
        "      if resta < min_resultado_resta:\n",
        "        punto1 = elemento1\n",
        "        punto2 = k\n",
        "        min_resultado_resta = resta\n",
        "\n",
        "    lista_1d_copia.append(elemento1)\n",
        "\n",
        "  return punto1, punto2, min_resultado_resta\n",
        "\n",
        "punto1, punto2, min_resultado_resta = dos_puntos_mas_cercanos(lista_1d)\n",
        "print(f\"Los dos puntos más cercanos son {punto1} y {punto2}.\")\n"
      ],
      "metadata": {
        "colab": {
          "base_uri": "https://localhost:8080/"
        },
        "id": "r1Wj3T8Puhq9",
        "outputId": "5cf3c2b9-d05d-4728-ce5c-a1b92ad19dce"
      },
      "execution_count": 24,
      "outputs": [
        {
          "output_type": "stream",
          "name": "stdout",
          "text": [
            "Los dos puntos más cercanos son 585 y 539.\n"
          ]
        }
      ]
    },
    {
      "cell_type": "markdown",
      "source": [
        "En este caso la complejidad es de O(n^2). Esta complejidad es bastante alta al ser un algoritmo iterativo, y quería reducida si por ejemplo ordenásemos los puntos en función de sus coordenadas."
      ],
      "metadata": {
        "id": "Kr70dPODxrgS"
      }
    }
  ]
}